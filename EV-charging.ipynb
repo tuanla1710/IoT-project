{
  "nbformat": 4,
  "nbformat_minor": 0,
  "metadata": {
    "colab": {
      "name": "Yan_paper.ipynb",
      "version": "0.3.2",
      "provenance": [],
      "collapsed_sections": [],
      "toc_visible": true,
      "include_colab_link": true
    }
  },
  "cells": [
    {
      "cell_type": "markdown",
      "metadata": {
        "id": "view-in-github",
        "colab_type": "text"
      },
      "source": [
        "<a href=\"https://colab.research.google.com/github/tuanla1710/IoT-project/blob/master/EV-charging.ipynb\" target=\"_parent\"><img src=\"https://colab.research.google.com/assets/colab-badge.svg\" alt=\"Open In Colab\"/></a>"
      ]
    },
    {
      "metadata": {
        "id": "w94mKsyw6ffi",
        "colab_type": "text"
      },
      "cell_type": "markdown",
      "source": [
        "# Programming"
      ]
    },
    {
      "metadata": {
        "id": "RHdN7E_pAAF-",
        "colab_type": "text"
      },
      "cell_type": "markdown",
      "source": [
        "## Clear all\n",
        "\n",
        "- This module to clear the system variable of this file. \n",
        "\n"
      ]
    },
    {
      "metadata": {
        "id": "HvoN_5V1ALxV",
        "colab_type": "code",
        "colab": {}
      },
      "cell_type": "code",
      "source": [
        "def clear_all():    \n",
        "    \"\"\"Clears all the variables from the workspace of the spyder application.\"\"\"\n",
        "    gl = globals().copy()\n",
        "    for var in gl:\n",
        "        if var[0] == '_': continue\n",
        "        if 'func' in str(globals()[var]): continue\n",
        "        if 'module' in str(globals()[var]): continue\n",
        "\n",
        "        del globals()[var]\n",
        "clear_all()        "
      ],
      "execution_count": 0,
      "outputs": []
    },
    {
      "metadata": {
        "id": "4fzag-_b73Fb",
        "colab_type": "text"
      },
      "cell_type": "markdown",
      "source": [
        "### Import"
      ]
    },
    {
      "metadata": {
        "id": "QdTFMG4D8DyI",
        "colab_type": "code",
        "colab": {}
      },
      "cell_type": "code",
      "source": [
        "from __future__ import division\n",
        "import numpy as np\n",
        "import matplotlib.pyplot as plt\n",
        "import numpy as np\n",
        "import math\n",
        "import matplotlib.pyplot as plt\n",
        "import numpy as np\n",
        "import math"
      ],
      "execution_count": 0,
      "outputs": []
    },
    {
      "metadata": {
        "id": "TUVI3Iow5T6u",
        "colab_type": "text"
      },
      "cell_type": "markdown",
      "source": [
        "## Functions\n"
      ]
    },
    {
      "metadata": {
        "id": "IhFZAbbTAZpW",
        "colab_type": "text"
      },
      "cell_type": "markdown",
      "source": [
        "### Functions for algorithm\n",
        "\n"
      ]
    },
    {
      "metadata": {
        "id": "_9yq9osI35EG",
        "colab_type": "text"
      },
      "cell_type": "markdown",
      "source": [
        "#### Penalty_function\n",
        "This function is computed at InP. We can calculate the unit penalty parameter for each MVNO according to the following equation:\n",
        "\n",
        "$ q_m = \\frac{1}{\\beta}v_m'(r_m)(1-\\frac{r_m}{R})$\n",
        "\n",
        "$ v_m'(r_m) = \\frac{q_m}{R-r_m}\\sum_{m=1}^{M}b_m^q$"
      ]
    },
    {
      "metadata": {
        "id": "Hb7FqAWT4AVM",
        "colab_type": "code",
        "colab": {}
      },
      "cell_type": "code",
      "source": [
        "from __future__ import division\n",
        "# Compute penalty value for each MVNO m\n",
        "# input: \n",
        "# beta: virtual price of InP\n",
        "# r_m: allocated RBs to MVNO m \n",
        "# R: total number of RBs of InP \n",
        "# q_m_old: penalty parameter at previous time slot. \n",
        "# b: bidding value vector getting from MVNO\n",
        "def penalty_to_MVNO(beta,r_m,R,q_m_old,b): \n",
        "  q_m_new = 1/beta*(1-r_m/R)*q_m_old/(R-r_m)*sum(b) \n",
        "  return q_m_new\n",
        "  \n",
        "# # testing: \n",
        "# beta = 5;\n",
        "# r = 4; \n",
        "# R = 20;\n",
        "# b = np.array([3,4,5])\n",
        "# q_old = 3.4;\n",
        "\n",
        "# q_new = penalty_to_MVNO(beta,r,R,q_old,b)\n",
        "# print(q_new)\n"
      ],
      "execution_count": 0,
      "outputs": []
    },
    {
      "metadata": {
        "id": "-L9cMMbP4Q6g",
        "colab_type": "text"
      },
      "cell_type": "markdown",
      "source": [
        "#### Virtual price for each RB\n"
      ]
    },
    {
      "metadata": {
        "id": "M4wAvJNWAqSU",
        "colab_type": "code",
        "colab": {}
      },
      "cell_type": "code",
      "source": [
        "from __future__ import division\n",
        "# b: bidding value vector getting from MVNO\n",
        "# R: total number of RBs of InP \n",
        "# beta: virtual price of InP\n",
        "\n",
        "\n",
        "# function of virtual price\n",
        "def virtual_price(b,R):\n",
        "  # print(sum(b), R)\n",
        "  beta = sum(b)/R\n",
        "  # print(beta)\n",
        "  return beta\n",
        "\n",
        "b1 = np.array([1, 2,3, 4, 5])\n",
        "R1 = 20 ;\n",
        "\n",
        "beta = virtual_price(b,R)\n",
        "print(beta)    \n",
        "\n"
      ],
      "execution_count": 0,
      "outputs": []
    },
    {
      "metadata": {
        "id": "nX7jH1Qz4YTH",
        "colab_type": "text"
      },
      "cell_type": "markdown",
      "source": [
        "#### Update bidding value\n",
        "\n",
        "Updatinng at each MVNO. Bidding Value of MVNO m is exactly sum rate of users of MVNO m. \n",
        "\n"
      ]
    },
    {
      "metadata": {
        "id": "FAxg4QL94iQm",
        "colab_type": "code",
        "colab": {}
      },
      "cell_type": "code",
      "source": [
        "from __future__ import division\n",
        "# RATE_m: data rate vector of the MVNO m\n",
        "def bidding_value(RATE_m):\n",
        "  b_m = sum(RATE_m)\n",
        "  return b_m"
      ],
      "execution_count": 0,
      "outputs": []
    },
    {
      "metadata": {
        "id": "m7x0HdBw4nzd",
        "colab_type": "text"
      },
      "cell_type": "markdown",
      "source": [
        "#### Calculates number of RBs\n",
        "First, the MVNO sends bidding value to InP. Then, InP will calculate number of RBs to allocate to each MVNO. \n",
        "\n",
        "$r_m(b_{m}) = \\frac{b_m}{\\sum_{m=1}^{M}b_m}R$ "
      ]
    },
    {
      "metadata": {
        "id": "YQZeWzWv4shF",
        "colab_type": "code",
        "colab": {}
      },
      "cell_type": "code",
      "source": [
        "from __future__ import division\n",
        "def cal_number_of_RBs(b_m, b,R):\n",
        "  # Calcuating number RBs for each MVNO \n",
        "  # b: bidding value vector getting from MVNO\n",
        "  # R: total number of RBs of InP \n",
        "  # b_m: bidding value of MVNO m \n",
        "  r_m = b_m/(sum(b))*R # Question: Do we need to round this number to an Integer value ??? \n",
        "  # This one will be considered after finishing ...\n",
        "  return r_m\n",
        "    \n",
        "  # # Test \n",
        "  # b_m = 4; \n",
        "  # b = np.array([4,5,10]);\n",
        "  # R = 20; \n",
        "\n",
        "  # r_m = cal_number_of_RBs(b_m, b,R)\n",
        "\n",
        "  # print(r_m)\n",
        "\n",
        "  \n",
        "  "
      ],
      "execution_count": 0,
      "outputs": []
    },
    {
      "metadata": {
        "id": "Pa3zCTLu5xCF",
        "colab_type": "text"
      },
      "cell_type": "markdown",
      "source": [
        "### Modules \n"
      ]
    },
    {
      "metadata": {
        "id": "4_jw2P4P6Ipg",
        "colab_type": "text"
      },
      "cell_type": "markdown",
      "source": [
        "#### Create network model"
      ]
    },
    {
      "metadata": {
        "id": "jvPR1V8M6N2M",
        "colab_type": "code",
        "colab": {}
      },
      "cell_type": "code",
      "source": [
        "from __future__ import division\n",
        "def create_system(rad, num, dist_min=20):\n",
        "  \"\"\"This function to create random UEs inside one BS\n",
        "  *Input: \n",
        "  - rad: radius of the BS \n",
        "  - num: number of UEs \n",
        "  - dist_min: minimum distance between BS and UEs \n",
        "  * Output: \n",
        "  - Coor_UE, Coor_BS, distance from BS to UEs \n",
        "  \n",
        "  \"\"\"\n",
        "  # Testing: \n",
        "  #   rad = 100\n",
        "  #   num = 20\n",
        "  \n",
        "  # Update coordinator of BS\n",
        "  x_BS = rad + 50 \n",
        "  y_BS = rad + 50    \n",
        "  Coor_BS = np.array([[x_BS, y_BS]])\n",
        "  \n",
        "  \n",
        "  Coor_UE = np.zeros(shape=(num, 2)) \n",
        "  \n",
        "  exit = False; \n",
        "  \n",
        "  while (exit == False):\n",
        "    t = np.random.uniform(0.0, 2.0*np.pi, num)\n",
        "    r = rad * np.sqrt(np.random.uniform(0.0, 1.0, num))\n",
        "    x = Coor_BS[0][0] + r * np.cos(t)\n",
        "    y = Coor_BS[0][1] + r * np.sin(t)\n",
        "    \n",
        "    # Update coordinator of UEs \n",
        "    Coor_UE[:,0] = x;\n",
        "    Coor_UE[:,1] = y;\n",
        "    \n",
        "    # calculate distance UE and BS \n",
        "    distance = distanceUEtoMBS(Coor_BS, Coor_UE)     \n",
        "    \n",
        "    # Satisfy condition? \n",
        "    if (min(distance[:,0]) < dist_min):\n",
        "      exit = False\n",
        "    else: \n",
        "      exit = True\n",
        "      \n",
        "  return (Coor_BS, Coor_UE, distance)\n",
        "    \n",
        "# Coor_BS, Coor_UE = create_system(200, 20)    "
      ],
      "execution_count": 0,
      "outputs": []
    },
    {
      "metadata": {
        "id": "TFiVjiBh58-k",
        "colab_type": "text"
      },
      "cell_type": "markdown",
      "source": [
        "#### Display network model information"
      ]
    },
    {
      "metadata": {
        "id": "rz7g5iHK5-gl",
        "colab_type": "code",
        "colab": {}
      },
      "cell_type": "code",
      "source": [
        "from __future__ import division\n",
        "def display_network_model(Coor_BS, Coor_UE, M, S, rad):\n",
        "  #   \"\"\"\n",
        "  #   * Input: \n",
        "\n",
        "  #   - Coor_BS: coor of BSs \n",
        "  #   - Coor_UE: coor of UEs \n",
        "  #   - M: number of MVNO \n",
        "  #   - S = users vector: number of UEs at each MVNO\n",
        "  #   - rad: radius of MBS \n",
        "\n",
        "  #   * Output: \n",
        "  #   - Display network information\n",
        "\n",
        "  #   \"\"\"\n",
        "\n",
        "  # Plot MBS location \n",
        "  circle1 = plt.Circle((Coor_BS[0][0],Coor_BS[0][1]),500, color='y')\n",
        "  fig, ax = plt.subplots() # note we must use plt.subplots, not plt.subplot\n",
        "  # (or if you have an existing figure)\n",
        "  # fig = plt.gcf()\n",
        "  # ax = fig.gca()\n",
        "  ax.add_artist(circle1)\n",
        "  \n",
        "  plt.plot(Coor_BS[0][0], Coor_BS[0][1], \"r^\", ms=10, label = 'MBS')\n",
        "  \n",
        "  \n",
        "  # Plot UEs of each MVNO \n",
        "  for m in range(M):    \n",
        "    if (m==0):      \n",
        "      plt.plot(Coor_UE[:S[m],0], Coor_UE[:S[m],1], \"go\", ms=5, label = 'MVNO-1')\n",
        "    elif (m==1):      \n",
        "      plt.plot(Coor_UE[sum(S[:m]):(sum(S[:m])+S[m]),0], Coor_UE[sum(S[:m]):(sum(S[:m])+S[m]),1], \"b*\", ms=5, label = 'MVNO-2')    \n",
        "    elif (m==2):  \n",
        "      plt.plot(Coor_UE[sum(S[:m]):(sum(S[:m])+S[m]),0], Coor_UE[sum(S[:m]):(sum(S[:m])+S[m]),1], \"m>\", ms=5, label = 'MVNO-3')    \n",
        "    else:      \n",
        "      ValueError('M must be less than 3!')\n",
        "  plt.axis([0, (2*rad+ rad/5), 0, (2*rad+ rad/5)])  \n",
        "  plt.title('Network model')\n",
        "  plt.legend() \n",
        "  plt.show()"
      ],
      "execution_count": 0,
      "outputs": []
    },
    {
      "metadata": {
        "id": "iO6aT4tI7pna",
        "colab_type": "text"
      },
      "cell_type": "markdown",
      "source": [
        "#### Compute distance BS to UEs"
      ]
    },
    {
      "metadata": {
        "id": "kqD3SINd7tMg",
        "colab_type": "code",
        "colab": {}
      },
      "cell_type": "code",
      "source": [
        "def distanceUEtoMBS(cBS, cUE):\n",
        "  \"\"\"\n",
        "  Input: \n",
        "  \n",
        "  - cUE: coordinators of UEs \n",
        "  - cBS: coordinators of BSs\n",
        "  \n",
        "  * Ouput: \n",
        "  - array 2D \n",
        "  - distance between UEs and cBSs \n",
        "  \"\"\"\n",
        "  \n",
        "  # Getting number of UEs from cUE  \n",
        "  nUE = cUE.shape[0] \n",
        "  # Getting number of BSs from cBS\n",
        "  nBS = cBS.shape[0]    \n",
        "  distance = np.zeros(shape=(nUE, nBS))\n",
        "  for ue in range(nUE):\n",
        "            for bs in range(nBS):\n",
        "                # print('ue=',ue,'bs=',bs)\n",
        "                distance[ue][bs] = math.sqrt((cUE[ue][0] - cBS[bs][0]) ** 2\n",
        "                                                 + (cUE[ue][1]- cBS[bs][1])**2)\n",
        "  return distance\n"
      ],
      "execution_count": 0,
      "outputs": []
    },
    {
      "metadata": {
        "id": "FVBnw_Yw9AVI",
        "colab_type": "text"
      },
      "cell_type": "markdown",
      "source": [
        "#### Calculate SINR at UEs (downlink)"
      ]
    },
    {
      "metadata": {
        "id": "j-nTtMwt9GU-",
        "colab_type": "code",
        "colab": {
          "base_uri": "https://localhost:8080/",
          "height": 132
        },
        "outputId": "b4fd0762-1d66-4d2b-e207-c6037871a9cb"
      },
      "cell_type": "code",
      "source": [
        "from __future__ import division\n",
        "def receivedSINRatUE(distance):\n",
        "  "
      ],
      "execution_count": 5,
      "outputs": [
        {
          "output_type": "error",
          "ename": "IndentationError",
          "evalue": "ignored",
          "traceback": [
            "\u001b[0;36m  File \u001b[0;32m\"<ipython-input-5-e846e4888eed>\"\u001b[0;36m, line \u001b[0;32m3\u001b[0m\n\u001b[0;31m    \u001b[0m\n\u001b[0m    ^\u001b[0m\n\u001b[0;31mIndentationError\u001b[0m\u001b[0;31m:\u001b[0m expected an indented block\n"
          ]
        }
      ]
    },
    {
      "metadata": {
        "id": "aKBZlBJvWMpN",
        "colab_type": "text"
      },
      "cell_type": "markdown",
      "source": [
        "#### Calculate Noise\n"
      ]
    },
    {
      "metadata": {
        "id": "6cpIobcg9fUk",
        "colab_type": "code",
        "colab": {}
      },
      "cell_type": "code",
      "source": [
        "from __future__ import division\n",
        "def calculateNoise(self, bandwidth=20):\n",
        "    k = 1.3806488 * math.pow(10, -23)\n",
        "    T = 293.0\n",
        "    BW = bandwidth * 1000 * 1000\n",
        "    N = 10*math.log10(k*T) + 10*np.log10(BW) # dB\n",
        "    return N"
      ],
      "execution_count": 0,
      "outputs": []
    },
    {
      "metadata": {
        "id": "4zv16CNs_2ci",
        "colab_type": "text"
      },
      "cell_type": "markdown",
      "source": [
        "#### Calculate received power at UE \n"
      ]
    },
    {
      "metadata": {
        "id": "CVjFG3D5_74_",
        "colab_type": "code",
        "colab": {}
      },
      "cell_type": "code",
      "source": [
        "def calculateReceivedPower(pSend, distance):\n",
        "    R = distance\n",
        "    lambda_val = 0.142758313333\n",
        "    a = 4.0\n",
        "    b = 0.0065\n",
        "    c = 17.1\n",
        "    d = 10.8\n",
        "    s = 15.8\n",
        "\n",
        "    ht = 40\n",
        "    hr = 1.5\n",
        "    f = 1.9\n",
        "    gamma = a - b*ht + c/ht\n",
        "    Xf = 6 * np.log10( f/2 )\n",
        "    Xh = -d * np.log10( hr/2 )\n",
        "\n",
        "    R0 = 100.0\n",
        "    R0p = R0 * pow(10.0,-( (Xf+Xh) / (10*gamma) ))\n",
        "\n",
        "    if(R>R0p):\n",
        "        alpha = 20 * np.log10( (4*np.pi*R0p) / lambda_val )\n",
        "        PL = alpha + 10*gamma*np.log10( R/R0 ) + Xf + Xh + s\n",
        "    else:\n",
        "        PL = 20 * np.log10( (4*np.pi*R) / lambda_val ) + s\n",
        "\n",
        "    pRec = pSend - PL\n",
        "    if(pRec > pSend):\n",
        "        pRec = pSend\n",
        "    return pRec"
      ],
      "execution_count": 0,
      "outputs": []
    },
    {
      "metadata": {
        "id": "D4Ry9b3t8Y6Y",
        "colab_type": "text"
      },
      "cell_type": "markdown",
      "source": [
        ""
      ]
    },
    {
      "metadata": {
        "id": "NcnPlzvELRH2",
        "colab_type": "text"
      },
      "cell_type": "markdown",
      "source": [
        "#### Compute X_m_min\n",
        "\n"
      ]
    },
    {
      "metadata": {
        "id": "0QSR6N-_LRH7",
        "colab_type": "code",
        "colab": {}
      },
      "cell_type": "code",
      "source": [
        "# This function to calculate minimum the number of RBs for each UE of the MVNO m.\n",
        "# Input: \n",
        "# rate_m_min: minimum data rate requirement for UEs at MVNO m \n",
        "# r_m  : total number of RBs for MVNO m \n",
        "# S: Number of UEs of MVNO m \n",
        "# rate_UE: Data rate of the UEs with one RB \n",
        "# m: index of the MVNO \n",
        "# Output: \n",
        "# X_m_min: minimum fraction of number of RBs of MVNO m \n",
        "# R_m: maximum data rate of users in MVNO m with r_m to the MVNO m \n",
        "from __future__ import division\n",
        "def cal_XR_min(r_m, m, S, rate_UE, rate_m_min):\n",
        "  s_m = S[m];  \n",
        "  if m==0:\n",
        "    # print(rate_UE[0:s_m][0])\n",
        "    X_m_min = rate_m_min/(r_m*rate_UE[0:s_m, 0]);    \n",
        "    R_m = r_m*rate_UE[0:s_m, 0]\n",
        "  else:\n",
        "    X_m_min = rate_m_min/(r_m*rate_UE[sum(S[:m]):(sum(S[:m])+S[m]),0]);  \n",
        "    R_m = r_m*rate_UE[sum(S[:m]):(sum(S[:m])+S[m]),0]\n",
        "    \n",
        "  return X_m_min, R_m\n",
        "    \n",
        "      \n",
        "# X_m_min = cal_R_min(20, 0, S, rate_UE, 2)\n",
        "# # print(S)\n",
        "# print (X_m_min)\n",
        "# Test: OK\n"
      ],
      "execution_count": 0,
      "outputs": []
    },
    {
      "metadata": {
        "id": "iJfcLoOgWK1s",
        "colab_type": "text"
      },
      "cell_type": "markdown",
      "source": [
        "#### DD method\n",
        "\n",
        "\\begin{equation}\n",
        " \t\t\t\t\\begin{aligned} \n",
        " \t\t\t\tL(x_s^m,\\lambda,\\nu, \\mu) = \\log(x_s^mr_m\\omega\\log_2(1+ \\frac{p_sh_s}{N_0})) - \\lambda x_s^m - \\mu \\log(x_s^mr_m\\omega\\log_2(1+ \\frac{p_sh_s}{N_0})) \n",
        " \t\t\t\t\\end{aligned}\n",
        "\\end{equation}\n",
        "\n",
        "Let $R_m = r_mωlog2(1+pshsN0)$ \n",
        "\n",
        "\\begin{equation}\n",
        " \t\t\t\t\\begin{aligned} \n",
        " \t\t\t\tL(x_s^m,\\lambda,\\nu, \\mu) = \\log(x_s^mR_m) - \\lambda x_s^m - \\mu x_s^mR_m \n",
        " \t\t\t\t\\end{aligned}\n",
        "\\end{equation}\n",
        "\n",
        "\n",
        "Take derivative: \n",
        "\n",
        "$\\frac{\\partial L(x_s^m, \\lambda, \\nu, \\mu)}{\\partial x_s^m} = \\frac{1}{x_s^m} - \\lambda - \\mu R_m $\n",
        "\n",
        "Taking $\\frac{\\partial L(x_s^m, \\lambda, \\nu, \\mu)}{\\partial x_s^m} = 0 $  following $x_s$ variable, we have: \n",
        "\n",
        "$x_s^m = \\bigg[ \\frac{1}{\\lambda + \\mu R_m }  \\bigg]_{x_s^{\\mathsf{min}}}^{x_s^{\\mathsf{max}}} $\n",
        "\n",
        "\n",
        "\n",
        "When Lagrangian Dual function $(12)$ is not differential, subgradient method can be applied and update the Lagrangian Multipliers according to the following, \n",
        "\n",
        " \\begin{align}\n",
        " \\lambda^{(i+1)} &= \\bigg[\\lambda^i - \\theta_1^{(i)}\\bigg(1- \\sum_{s=1}^{S_m}x_s^m\\bigg)\\bigg], \\ \\ \\ \\ \\ \\ \\ \\ \\ \\forall s.\\\\\n",
        " \\mu^{(i+1)} &= \\bigg[\\mu^i - \\theta_3^{(i)}\\bigg( Z_m^{max} -\\sum_{s=1}^{S_m}x_s^m r_m\\omega \\log_2(1+\\frac{p_s h_s}{N_0})\\bigg)\\bigg], \\forall s.\n",
        " \\end{align} \n",
        "where $\\theta_1^i, \\theta_2^i $,and $\\theta_3^i$ are step sizes of each iteration $i (i \\in \\{1, 2, 3, ... , I_{max}\\})$, $I_{max}$ is the maximum number of iterations of algorithm, and the step sizes can be formulated. \n"
      ]
    },
    {
      "metadata": {
        "id": "yk0t_w2p8peI",
        "colab_type": "code",
        "colab": {
          "base_uri": "https://localhost:8080/",
          "height": 1059
        },
        "outputId": "c3141c0d-6c8b-41ac-ac3f-d1eb74f5a67e"
      },
      "cell_type": "code",
      "source": [
        "from __future__ import division\n",
        "\n",
        "import numpy as np \n",
        "import math \n",
        "import matplotlib.pyplot as plt\n",
        "# Input parameter: S, m\n",
        "# Output parameter: X_m (vector of users of the service provider m)\n",
        "\n",
        "# Input: \n",
        "S = np.array([5, 15, 25]) # Number of users at each MVNO \n",
        "Z_m_max =  np.array([20, 40, 100]) # Capacity limitation\n",
        "m = 0;\n",
        "z_m = Z_m_max[m]; # Backhaul capacity of the MVNO m \n",
        "s_m = S[m]; # Number of UEs at MVNO m\n",
        "r_m = 20; \n",
        "rate_UE;\n",
        "rate_m_min = 2; # minimum data rate requirement of UEs at MVNO m \n",
        "\n",
        "# def DD_method():\n",
        "\n",
        "# algorithm parameter \n",
        "\n",
        "iter_m = 100; # Number of iterations for MVNO m \n",
        "X_m = np.zeros(iter_m) #  Matrix of resource allocation of all UE \n",
        "# at MVNO m following iteration iter_m\n",
        "\n",
        "lambda_m = np.zeros(iter_m)\n",
        "\n",
        "mu_m = np.zeros(iter_m)\n",
        "\n",
        "sum_rate_m = np.zeros(iter_m)\n",
        "\n",
        "sum_X_m = np.zeros(iter_m)\n",
        "\n",
        "# Initiate variable: \n",
        "lambda_m[0] = 10 \n",
        "mu_m[0] = 0.2\n",
        "sum_rate_m[0] = 0; \n",
        "\n",
        "# Getting minimumfraction of RB of number of RBs of each MVNO\n",
        "# Getting R_m (see in the paper or problem analysis):\n",
        "X_m_min, R_m = cal_XR_min(r_m, m, S, rate_UE, rate_m_min)\n",
        "\n",
        "theta_1 = 1\n",
        "theta_3 = 0.01\n",
        "\n",
        "# print(X_m_min, R_m)\n",
        "\n",
        "\n",
        "# Starting algorithm of DD method\n",
        "\n",
        "for i in range(1,iter_m):\n",
        "  # Update vector X_m at all UE \n",
        "  \n",
        "  #print ('lambda_m =', lambda_m[i-1])\n",
        "  #print ('R_m*mu_m =', R_m*mu_m[i-1])\n",
        "  \n",
        "  X_m = 1/(lambda_m[i-1]+ R_m*mu_m[i-1])\n",
        "  # print (X_m)\n",
        "  #print (lambda_m[999-1])\n",
        "  # Update vector lambda_m \n",
        "  lambda_m[i] = max(0,lambda_m[i-1] - theta_1*(1-np.sum(X_m)))\n",
        "  \n",
        "  # Update vecotr mu_m \n",
        "  mu_m[i] = max(0,mu_m[i-1] - theta_3*(z_m - np.sum(R_m*X_m)))\n",
        "  # print (R_m*X_m, X_m)\n",
        "  \n",
        "  # Update total rate of MVNO m\n",
        "  sum_rate_m[i] = np.sum(R_m*X_m)\n",
        "  sum_X_m[i] = np.sum(X_m)\n",
        "  \n",
        "t1 = np.arange(iter_m)\n",
        "\n",
        "# print(lambda_m)\n",
        "\n",
        "plt.figure(1)\n",
        "plt.subplot(211)\n",
        "plt.plot(t1, lambda_m, 'bo')\n",
        "\n",
        "plt.subplot(212)\n",
        "plt.plot(t1, mu_m, 'k')\n",
        "plt.show()\n",
        "\n",
        "plt.figure(2)\n",
        "plt.plot(t1, sum_rate_m, '--k')\n",
        "plt.show()\n",
        "\n",
        "plt.figure(3)\n",
        "plt.plot(t1, sum_X_m, '-g')\n",
        "\n",
        "plt.show()\n",
        "print ('sum(X_m) = ', np.sum(X_m))\n",
        "\n",
        "print ('np.sum(R_m*X_m) =', np.sum(R_m*X_m))\n",
        "\n",
        "\n",
        "  "
      ],
      "execution_count": 85,
      "outputs": [
        {
          "output_type": "stream",
          "text": [
            "[ 2.37627176]\n"
          ],
          "name": "stdout"
        },
        {
          "output_type": "display_data",
          "data": {
            "image/png": "[encoded data removed]",
            "text/plain": [
              "<matplotlib.figure.Figure at 0x7efff548b490>"
            ]
          },
          "metadata": {
            "tags": []
          }
        },
        {
          "output_type": "display_data",
          "data": {
            "image/png": "[encoded data removed]",
            "text/plain": [
              "<matplotlib.figure.Figure at 0x7efff523af10>"
            ]
          },
          "metadata": {
            "tags": []
          }
        },
        {
          "output_type": "display_data",
          "data": {
            "image/png": "[encoded data removed]",
            "text/plain": [
              "<matplotlib.figure.Figure at 0x7efff7a8e790>"
            ]
          },
          "metadata": {
            "tags": []
          }
        },
        {
          "output_type": "stream",
          "text": [
            "('sum(X_m) = ', 0.51493097145636801)\n",
            "('np.sum(R_m*X_m) =', 20.0)\n"
          ],
          "name": "stdout"
        }
      ]
    },
    {
      "metadata": {
        "id": "n8A_555KaqMC",
        "colab_type": "code",
        "colab": {
          "base_uri": "https://localhost:8080/",
          "height": 34
        },
        "outputId": "11f9f28f-5010-4805-e3cb-7f8a00afb46c"
      },
      "cell_type": "code",
      "source": [
        "# yy = np.sum(X_m)\n",
        "# n = max(0,yy)\n",
        "# print(n)\n",
        "\n",
        "z_m"
      ],
      "execution_count": 71,
      "outputs": [
        {
          "output_type": "execute_result",
          "data": {
            "text/plain": [
              "100"
            ]
          },
          "metadata": {
            "tags": []
          },
          "execution_count": 71
        }
      ]
    },
    {
      "metadata": {
        "id": "Gkf9jDsT5biN",
        "colab_type": "code",
        "colab": {
          "base_uri": "https://localhost:8080/",
          "height": 1059
        },
        "outputId": "b1e74abf-0b21-4652-fb97-92fc824b4eb2"
      },
      "cell_type": "code",
      "source": [
        "from __future__ import division\n",
        "\n",
        "import numpy as np \n",
        "import math \n",
        "import matplotlib.pyplot as plt\n",
        "def DD_method(S,Z_m_max, m, r_m, rate_UE, rate_m_min):\n",
        "  # Input parameter: S, m\n",
        "  # Input: \n",
        "  # S = np.array([5, 15, 25]) # Number of users at each MVNO \n",
        "  # Z_m_max =  np.array([20, 40, 100]) # Capacity limitation\n",
        "  # m = 0;\n",
        "  # r_m = 20; \n",
        "  # rate_UE;\n",
        "  # rate_m_min = 2; # minimum data rate requirement of UEs at MVNO m \n",
        "  \n",
        "  # Output parameter: X_m (vector of users of the service provider m)\n",
        "  \n",
        "  # Starting function \n",
        "  z_m = Z_m_max[m]; # Backhaul capacity of the MVNO m \n",
        "  s_m = S[m]; # Number of UEs at MVNO m\n",
        "  \n",
        "  # algorithm parameter \n",
        "\n",
        "  iter_m = 100; # Number of iterations for MVNO m \n",
        "  X_m = np.zeros(iter_m) #  Matrix of resource allocation of all UE \n",
        "  # at MVNO m following iteration iter_m\n",
        "\n",
        "  lambda_m = np.zeros(iter_m)\n",
        "\n",
        "  mu_m = np.zeros(iter_m)\n",
        "\n",
        "  sum_rate_m = np.zeros(iter_m)\n",
        "\n",
        "  sum_X_m = np.zeros(iter_m)\n",
        "\n",
        "  # Initiate variable: \n",
        "  lambda_m[0] = 10 \n",
        "  mu_m[0] = 0.2\n",
        "  sum_rate_m[0] = 0; \n",
        "\n",
        "  # Getting minimumfraction of RB of number of RBs of each MVNO\n",
        "  # Getting R_m (see in the paper or problem analysis):\n",
        "  X_m_min, R_m = cal_XR_min(r_m, m, S, rate_UE, rate_m_min)\n",
        "\n",
        "  theta_1 = 1\n",
        "  theta_3 = 0.01\n",
        "\n",
        "  # print(X_m_min, R_m)\n",
        "  # Starting algorithm of DD method\n",
        "\n",
        "  for i in range(1,iter_m):\n",
        "    # Update vector X_m at all UE \n",
        "\n",
        "    #print ('lambda_m =', lambda_m[i-1])\n",
        "    #print ('R_m*mu_m =', R_m*mu_m[i-1])\n",
        "\n",
        "    X_m = 1/(lambda_m[i-1]+ R_m*mu_m[i-1])\n",
        "    # print (X_m)\n",
        "    #print (lambda_m[999-1])\n",
        "    # Update vector lambda_m \n",
        "    lambda_m[i] = max(0,lambda_m[i-1] - theta_1*(1-np.sum(X_m)))\n",
        "\n",
        "    # Update vecotr mu_m \n",
        "    mu_m[i] = max(0,mu_m[i-1] - theta_3*(z_m - np.sum(R_m*X_m)))\n",
        "    # print (R_m*X_m, X_m)\n",
        "\n",
        "    # Update total rate of MVNO m\n",
        "    sum_rate_m[i] = np.sum(R_m*X_m)\n",
        "    sum_X_m[i] = np.sum(X_m)\n",
        "\n",
        "  # t1 = np.arange(iter_m)\n",
        "\n",
        "  # print(lambda_m)\n",
        "\n",
        "  #   plt.figure(1)\n",
        "  #   plt.subplot(211)\n",
        "  #   plt.plot(t1, lambda_m, 'bo')\n",
        "\n",
        "  #   plt.subplot(212)\n",
        "  #   plt.plot(t1, mu_m, 'k')\n",
        "  #   plt.show()\n",
        "\n",
        "  #   plt.figure(2)\n",
        "  #   plt.plot(t1, sum_rate_m, '--k')\n",
        "  #   plt.show()\n",
        "\n",
        "  #   plt.figure(3)\n",
        "  #   plt.plot(t1, sum_X_m, '-g')\n",
        "\n",
        "  plt.show()\n",
        "  # print ('sum(X_m) = ', np.sum(X_m))\n",
        "\n",
        "  # print ('np.sum(R_m*X_m) =', np.sum(R_m*X_m))\n",
        "  \n",
        "  return (np.sum(X_m),np.sum(R_m*X_m)) \n",
        "\n",
        "\n",
        "# Input: \n",
        "S = np.array([5, 15, 25]) # Number of users at each MVNO \n",
        "Z_m_max =  np.array([20, 40, 100]) # Capacity limitation\n",
        "m = 1;\n",
        "# z_m = Z_m_max[m]; # Backhaul capacity of the MVNO m \n",
        "# s_m = S[m]; # Number of UEs at MVNO m\n",
        "r_m =100; \n",
        "rate_UE;\n",
        "rate_m_min = 2; # minimum data rate requirement of UEs at MVNO m \n",
        "\n",
        "sum_X_m, sum_rate_m = DD_method(S,Z_m_max, m, r_m, rate_UE, rate_m_min)\n",
        "\n",
        "print (sum_X_m, sum_rate_m)\n",
        "\n",
        "\n",
        "\n",
        "  "
      ],
      "execution_count": 19,
      "outputs": [
        {
          "output_type": "display_data",
          "data": {
            "image/png": "[encoded data removed]",
            "text/plain": [
              "<matplotlib.figure.Figure at 0x7f78ec792050>"
            ]
          },
          "metadata": {
            "tags": []
          }
        },
        {
          "output_type": "display_data",
          "data": {
            "image/png": "[encoded data removed]",
            "text/plain": [
              "<matplotlib.figure.Figure at 0x7f78ea4d5f90>"
            ]
          },
          "metadata": {
            "tags": []
          }
        },
        {
          "output_type": "display_data",
          "data": {
            "image/png": "[encoded data removed]",
            "text/plain": [
              "<matplotlib.figure.Figure at 0x7f78ea608090>"
            ]
          },
          "metadata": {
            "tags": []
          }
        },
        {
          "output_type": "stream",
          "text": [
            "('sum(X_m) = ', 0.18535917285825682)\n",
            "('np.sum(R_m*X_m) =', 40.0)\n",
            "(0.18535917285825682, 40.0)\n"
          ],
          "name": "stdout"
        }
      ]
    },
    {
      "metadata": {
        "id": "yWP-OWBHDmno",
        "colab_type": "code",
        "colab": {
          "base_uri": "https://localhost:8080/",
          "height": 799
        },
        "outputId": "a77fee41-1933-44a2-ec05-ebcddfddbdb8"
      },
      "cell_type": "code",
      "source": [
        "X_m_min = np.zeros(5) \n",
        "  \n",
        "type(X_m_min)\n",
        "\n",
        "rate_UE"
      ],
      "execution_count": 34,
      "outputs": [
        {
          "output_type": "execute_result",
          "data": {
            "text/plain": [
              "array([[ 2.37627176],\n",
              "       [ 1.8346054 ],\n",
              "       [ 1.76096907],\n",
              "       [ 1.83288357],\n",
              "       [ 2.01900412],\n",
              "       [ 1.96919146],\n",
              "       [ 2.25755176],\n",
              "       [ 2.66952472],\n",
              "       [ 2.15585411],\n",
              "       [ 1.8752943 ],\n",
              "       [ 3.20385431],\n",
              "       [ 3.65715285],\n",
              "       [ 1.84815396],\n",
              "       [ 2.35850727],\n",
              "       [ 1.89917623],\n",
              "       [ 1.87393659],\n",
              "       [ 1.74479462],\n",
              "       [ 2.20233074],\n",
              "       [ 2.26212941],\n",
              "       [ 1.82345416],\n",
              "       [ 1.85242084],\n",
              "       [ 1.9379803 ],\n",
              "       [ 1.82051304],\n",
              "       [ 1.94666795],\n",
              "       [ 1.73076228],\n",
              "       [ 2.30053786],\n",
              "       [ 1.8713045 ],\n",
              "       [ 1.73507537],\n",
              "       [ 2.29974483],\n",
              "       [ 1.97305636],\n",
              "       [ 2.25132171],\n",
              "       [ 2.12535674],\n",
              "       [ 3.10852845],\n",
              "       [ 3.67516883],\n",
              "       [ 1.855856  ],\n",
              "       [ 2.13574826],\n",
              "       [ 1.96324047],\n",
              "       [ 1.87006161],\n",
              "       [ 2.17810361],\n",
              "       [ 2.248448  ],\n",
              "       [ 2.66884719],\n",
              "       [ 1.83203091],\n",
              "       [ 1.80599656],\n",
              "       [ 1.87427138],\n",
              "       [ 1.77924786]])"
            ]
          },
          "metadata": {
            "tags": []
          },
          "execution_count": 34
        }
      ]
    },
    {
      "metadata": {
        "id": "OGGDUwf4ANBo",
        "colab_type": "text"
      },
      "cell_type": "markdown",
      "source": [
        "#### Main function"
      ]
    },
    {
      "metadata": {
        "id": "zaMbu8smX75T",
        "colab_type": "code",
        "colab": {
          "base_uri": "https://localhost:8080/",
          "height": 362
        },
        "outputId": "429a6d6e-66b9-490e-fa2f-22e6c7ff9a08"
      },
      "cell_type": "code",
      "source": [
        "from __future__ import division\n",
        "import numpy as np\n",
        "import math \n",
        "import matplotlib.pyplot as plt\n",
        "\n",
        "np.random.seed(11)\n",
        "\n",
        "'''Module design'''\n",
        "\n",
        "\n",
        "\n",
        "\n",
        "\"\"\"Main function\"\"\"\n",
        "\n",
        "# Initializate network model \n",
        "\n",
        "I = 1; # Number of InP \n",
        "M = 3; # number of MVNO\n",
        "S = np.array([5, 15, 25]) # Number of users at each MVNO \n",
        "\n",
        "# Getting network model (using class) \n",
        "\n",
        "# Number of MBS \n",
        "n_MBS = I; \n",
        "n_UE  = sum(S);\n",
        "radius_MBS = 500; # m\n",
        "bandwidth = 20; # Mhz\n",
        "bw = 0.18 # MHz, bandwidth of each RB\n",
        "power_MBS = 43 #dBm\n",
        "\n",
        "Z_m_max =  np.array([20, 40, 100])\n",
        "\n",
        "# Calculate noise \n",
        "Noise = 10**(calculateNoise(bandwidth)/10)# ~~ -100dBW\n",
        "Noise = 10**(-11)# \n",
        "# Noise ~ 10**(-14); # Wats\n",
        "# print(Noise)\n",
        "\n",
        "# network_model.update(n_MBS,n_UE)\n",
        "# H = network_model.channel_gain();\n",
        "# P = network_model.power_downlink();\n",
        "\n",
        "# Create network topology and display\n",
        "\n",
        "# Getting Coors of BSs and UEs\n",
        "(Coor_BS,Coor_UE, distance_BS_to_UE) = create_system(radius_MBS, n_UE)    \n",
        "\n",
        "# plot network model\n",
        "display_network_model(Coor_BS, Coor_UE, M, S,radius_MBS) \n",
        "\n",
        "\n",
        "# compute receivedSINRatUE 2D matrix \n",
        "rate_UE = np.zeros(shape=(n_UE,n_MBS)) # Matrix to update penalty to MVNO\n",
        "\n",
        "for i in range(n_UE):\n",
        "  for j in range(n_MBS):\n",
        "    # SINR_Rx[i][j] = 10*math.log10(10**(calculateReceivedPower(power_MBS, distance_BS_to_UE[i][j])/10)/Noise)\n",
        "    rate_UE[i][j] = 0.18*np.log2(1+10**(calculateReceivedPower(power_MBS, distance_BS_to_UE[i][j])/10)/Noise)\n",
        "\n",
        "# print(rate_UE)\n",
        "\n",
        "\n",
        "\n",
        "iter = 1 # Number of Interations \n",
        "\n",
        "Q = np.zeros(shape=(M,iter)) # Matrix to update penalty to MVNO\n",
        "\n",
        "B = np.zeros(shape=(M,iter)) # Matrix to update biding value to InP\n",
        "\n",
        "BETA = np.zeros(shape=(I,iter)) # Matrix to update biding value to InP\n",
        "\n",
        "RATE = np.zeros(shape=(M,iter)) # Sum data rate matrix of MVNOs\n",
        "\n",
        "\n",
        "\n",
        "# Stage I: Resource Competition Game\n",
        "\n",
        "for i in range(1,iter): \n",
        "  print (i)\n",
        "  # Step 1: Updating penalty value to MNVO --> Q matrix \n",
        "  \n",
        "  \n",
        "  # Step 2: Updating bidding value to InP --> B\n",
        "  \n",
        "\n",
        "\n",
        "  # Step 3: Broadcast virtual price (how much for each resource block)\n",
        "  \n",
        "  \n",
        "  \n",
        "  # Step 4: InP calculates number of RBs to allocate to each MVNO according to \n",
        "  # bidding value \n",
        "   \n",
        "  \n",
        "  # Step 5: Updating resource allocation at each MVNO \n",
        "  \n",
        "  \n",
        "\n",
        "\n",
        "# Stage II: Output display\n",
        "\n",
        "# 0. Network model\n",
        "\n",
        "\n",
        "# 1. Data rate of each MVNO following time \n",
        "\n",
        "# 2. \n",
        "  \n",
        "  "
      ],
      "execution_count": 14,
      "outputs": [
        {
          "output_type": "display_data",
          "data": {
            "image/png": "[encoded data removed]",
            "text/plain": [
              "<matplotlib.figure.Figure at 0x7f78ec84b210>"
            ]
          },
          "metadata": {
            "tags": []
          }
        }
      ]
    },
    {
      "metadata": {
        "id": "gqfeR3pK13xg",
        "colab_type": "code",
        "colab": {}
      },
      "cell_type": "code",
      "source": [
        "distance_BS_to_UE"
      ],
      "execution_count": 0,
      "outputs": []
    },
    {
      "metadata": {
        "id": "HKADXfEp2jgI",
        "colab_type": "text"
      },
      "cell_type": "markdown",
      "source": [
        "#### Main Function Full "
      ]
    },
    {
      "metadata": {
        "id": "pwnubTBM2hvj",
        "colab_type": "code",
        "colab": {
          "base_uri": "https://localhost:8080/",
          "height": 707
        },
        "outputId": "68a18539-7392-4fd4-c3a9-939805d3cf9e"
      },
      "cell_type": "code",
      "source": [
        "from __future__ import division\n",
        "import matplotlib.pyplot as plt\n",
        "import numpy as np\n",
        "import math\n",
        "\n",
        "\n",
        "def clear_all():\n",
        "    \"\"\"Clears all the variables from the workspace of the spyder application.\"\"\"\n",
        "    gl = globals().copy()\n",
        "    for var in gl:\n",
        "        if var[0] == '_': continue\n",
        "        if 'func' in str(globals()[var]): continue\n",
        "        if 'module' in str(globals()[var]): continue\n",
        "\n",
        "        del globals()[var]\n",
        "\n",
        "clear_all()\n",
        "np.random.seed(11)\n",
        "\n",
        "'''Functions'''\n",
        "\n",
        "\n",
        "def penalty_to_mvno(beta_local, r_m_local, R_local, q_m_old, b_local):\n",
        "    # Compute penalty value for each MVNO m\n",
        "    # input:\n",
        "    # beta: virtual price of InP\n",
        "    # r_m: allocated RBs to MVNO m\n",
        "    # R: total number of RBs of InP\n",
        "    # q_m_old: penalty parameter at previous time slot.\n",
        "    # b: bidding value vector getting from MVNO\n",
        "    q_m_new = 1 / beta_local * (1 - r_m_local / R_local ) * q_m_old / (R_local - r_m_local) * np.sum(b_local)\n",
        "    return q_m_new\n",
        "\n",
        "    # # testing:\n",
        "    # beta = 5;\n",
        "    # r = 4;\n",
        "    # R = 20;\n",
        "    # b = np.array([3,4,5])\n",
        "    # q_old = 3.4;\n",
        "    #\n",
        "    # q_new = penalty_to_MVNO(beta,r,R,q_old,b)\n",
        "    # print(q_new)\n",
        "\n",
        "\n",
        "def virtual_price(b_local, R_local):\n",
        "    # b: bidding value vector getting from MVNO\n",
        "    # R: total number of RBs of InP\n",
        "    # beta: virtual price of InP\n",
        "    # function of virtual price\n",
        "    # print(sum(b), R)\n",
        "    beta_local = np.sum(b_local) / R_local\n",
        "    # print(beta)\n",
        "    return beta_local\n",
        "    # b1 = np.array([1, 2,3, 4, 5])\n",
        "    # R1 = 20 ;\n",
        "\n",
        "    # beta = virtual_price(b,R)\n",
        "    # print(beta)\n",
        "\n",
        "\n",
        "def bidding_value(RATE_m):\n",
        "    # RATE_m: data rate vector of the MVNO m\n",
        "    b_m = sum(RATE_m)\n",
        "    return b_m\n",
        "\n",
        "\n",
        "def cal_number_of_rbs(b_m, b, R):\n",
        "    # Calcuating number RBs for each MVNO\n",
        "    # b: bidding value vector getting from MVNO\n",
        "    # R: total number of RBs of InP\n",
        "    # b_m: bidding value of MVNO m\n",
        "    r_m = b_m / (np.sum(b)) * R  # Question: Do we need to round this number to an Integer value ???\n",
        "    # This one will be considered after finishing ...\n",
        "    return r_m\n",
        "\n",
        "    # # Test\n",
        "    # b_m = 4;\n",
        "    # b = np.array([4,5,10]);\n",
        "    # R = 20;\n",
        "\n",
        "    # r_m = cal_number_of_RBs(b_m, b,R)\n",
        "\n",
        "    # print(r_m)\n",
        "\n",
        "\n",
        "'''Module design'''\n",
        "\n",
        "\n",
        "def create_system(rad, num, dist_min=20):\n",
        "    \"\"\"This function to create random UEs inside one BS\n",
        "    *Input:\n",
        "    - rad: radius of the BS\n",
        "    - num: number of UEs\n",
        "    - dist_min: minimum distance between BS and UEs\n",
        "    * Output:\n",
        "    - Coor_UE, Coor_BS, distance from BS to UEs\n",
        "\n",
        "    \"\"\"\n",
        "    # Testing:\n",
        "    #   rad = 100\n",
        "    #   num = 20\n",
        "\n",
        "    # Update coordinator of BS\n",
        "    x_BS = rad + 50\n",
        "    y_BS = rad + 50\n",
        "    Coor_BS = np.array([[x_BS, y_BS]])\n",
        "    Coor_UE = np.zeros(shape=(num, 2))\n",
        "    exit = False;\n",
        "\n",
        "    while (exit == False):\n",
        "        t = np.random.uniform(0.0, 2.0 * np.pi, num)\n",
        "        r = rad * np.sqrt(np.random.uniform(0.0, 1.0, num))\n",
        "        x = Coor_BS[0][0] + r * np.cos(t)\n",
        "        y = Coor_BS[0][1] + r * np.sin(t)\n",
        "\n",
        "        # Update coordinator of UEs\n",
        "        Coor_UE[:, 0] = x;\n",
        "        Coor_UE[:, 1] = y;\n",
        "\n",
        "        # calculate distance UE and BS\n",
        "        distance = distanceUEtoMBS(Coor_BS, Coor_UE)\n",
        "\n",
        "        # Satisfy condition?\n",
        "        if (min(distance[:, 0]) < dist_min):\n",
        "            exit = False\n",
        "        else:\n",
        "            exit = True\n",
        "\n",
        "    return Coor_BS, Coor_UE, distance\n",
        "\n",
        "    # Coor_BS, Coor_UE = create_system(200, 20)\n",
        "\n",
        "\n",
        "def display_network_model(Coor_BS, Coor_UE, M, S, rad):\n",
        "    #   \"\"\"\n",
        "    #   * Input:\n",
        "\n",
        "    #   - Coor_BS: coor of BSs\n",
        "    #   - Coor_UE: coor of UEs\n",
        "    #   - M: number of MVNO\n",
        "    #   - S = users vector: number of UEs at each MVNO\n",
        "    #   - rad: radius of MBS\n",
        "\n",
        "    #   * Output:\n",
        "    #   - Display network information\n",
        "\n",
        "    #   \"\"\"\n",
        "\n",
        "    # Plot MBS location\n",
        "    circle1 = plt.Circle((Coor_BS[0][0], Coor_BS[0][1]), 500, color='y')\n",
        "    fig, ax = plt.subplots()  # note we must use plt.subplots, not plt.subplot\n",
        "    # (or if you have an existing figure)\n",
        "    # fig = plt.gcf()\n",
        "    # ax = fig.gca()\n",
        "    ax.add_artist(circle1)\n",
        "    plt.figure(1)\n",
        "    plt.plot(Coor_BS[0][0], Coor_BS[0][1], \"r^\", ms=10, label='MBS')\n",
        "\n",
        "    # Plot UEs of each MVNO\n",
        "    for m in range(M):\n",
        "        if (m == 0):\n",
        "            plt.plot(Coor_UE[:S[m], 0], Coor_UE[:S[m], 1], \"go\", ms=5, label='MVNO-1')\n",
        "        elif (m == 1):\n",
        "            plt.plot(Coor_UE[sum(S[:m]):(sum(S[:m]) + S[m]), 0], Coor_UE[sum(S[:m]):(sum(S[:m]) + S[m]), 1], \"b*\", ms=5,\n",
        "                     label='MVNO-2')\n",
        "        elif (m == 2):\n",
        "            plt.plot(Coor_UE[sum(S[:m]):(sum(S[:m]) + S[m]), 0], Coor_UE[sum(S[:m]):(sum(S[:m]) + S[m]), 1], \"m>\", ms=5,\n",
        "                     label='MVNO-3')\n",
        "        else:\n",
        "            ValueError('M must be less than 3!')\n",
        "    plt.axis([0, (2 * rad + rad / 5), 0, (2 * rad + rad / 5)])\n",
        "    plt.title('Network model')\n",
        "    plt.legend()\n",
        "    plt.show()\n",
        "\n",
        "def plot_RATE(rate, M, iter):\n",
        "    plt.figure(2)\n",
        "    t = range(iter)\n",
        "    y_max = rate.max() + rate.max()/10\n",
        "    for m in range(M):\n",
        "        if (m == 0):\n",
        "            plt.plot(t, rate[0,:], \"-go\", ms=5, label='MVNO-1')\n",
        "        elif (m == 1):\n",
        "            plt.plot(t, rate[1,:], \"-b*\", ms=5,\n",
        "                     label='MVNO-2')\n",
        "        elif (m == 2):\n",
        "            plt.plot(t, rate[2,:], \"-m>\", ms=5,\n",
        "                     label='MVNO-3')\n",
        "        else:\n",
        "            ValueError('M must be less than 3!')\n",
        "    plt.axis([0, iter, 0, y_max])\n",
        "    plt.title('Data Rate of MVNOs with Proportional Allocation')\n",
        "    plt.legend()\n",
        "    plt.grid()\n",
        "    plt.show()\n",
        "\n",
        "def plot_RA(rate, M, iter):\n",
        "    plt.figure(3)\n",
        "    t = range(iter)\n",
        "    y_max = rate.max() + rate.max()/10\n",
        "    for m in range(M):\n",
        "        if (m == 0):\n",
        "            plt.plot(t, rate[0,:], \"-go\", ms=5, label='MVNO-1')\n",
        "        elif (m == 1):\n",
        "            plt.plot(t, rate[1,:], \"-b*\", ms=5,\n",
        "                     label='MVNO-2')\n",
        "        elif (m == 2):\n",
        "            plt.plot(t, rate[2,:], \"-m>\", ms=5,\n",
        "                     label='MVNO-3')\n",
        "        else:\n",
        "            ValueError('M must be less than 3!')\n",
        "    plt.axis([0, iter, 0, y_max])\n",
        "    plt.title('Proportional Allocation')\n",
        "    plt.legend()\n",
        "    plt.grid()\n",
        "    plt.show()\n",
        "\n",
        "def distanceUEtoMBS(cBS, cUE):\n",
        "    \"\"\"\n",
        "    Input:\n",
        "\n",
        "    - cUE: coordinators of UEs\n",
        "    - cBS: coordinators of BSs\n",
        "\n",
        "    * Ouput:\n",
        "    - array 2D\n",
        "    - distance between UEs and cBSs\n",
        "    \"\"\"\n",
        "\n",
        "    # Getting number of UEs from cUE\n",
        "    nUE = cUE.shape[0]\n",
        "    # Getting number of BSs from cBS\n",
        "    nBS = cBS.shape[0]\n",
        "    distance = np.zeros(shape=(nUE, nBS))\n",
        "    for ue in range(nUE):\n",
        "        for bs in range(nBS):\n",
        "            # print('ue=',ue,'bs=',bs)\n",
        "            distance[ue][bs] = math.sqrt((cUE[ue][0] - cBS[bs][0]) ** 2\n",
        "                                         + (cUE[ue][1] - cBS[bs][1]) ** 2)\n",
        "    return distance\n",
        "\n",
        "\n",
        "def calculateNoise(self, bandwidth=20):\n",
        "    k = 1.3806488 * math.pow(10, -23)\n",
        "    T = 293.0\n",
        "    BW = bandwidth * 1000 * 1000\n",
        "    N = 10 * math.log10(k * T) + 10 * np.log10(BW)  # dB\n",
        "    return N\n",
        "\n",
        "\n",
        "def calculateReceivedPower(pSend, distance):\n",
        "    R = distance\n",
        "    lambda_val = 0.142758313333\n",
        "    a = 4.0\n",
        "    b = 0.0065\n",
        "    c = 17.1\n",
        "    d = 10.8\n",
        "    s = 15.8\n",
        "\n",
        "    ht = 40\n",
        "    hr = 1.5\n",
        "    f = 1.9\n",
        "    gamma = a - b * ht + c / ht\n",
        "    Xf = 6 * np.log10(f / 2)\n",
        "    Xh = -d * np.log10(hr / 2)\n",
        "\n",
        "    R0 = 100.0\n",
        "    R0p = R0 * pow(10.0, -((Xf + Xh) / (10 * gamma)))\n",
        "\n",
        "    if (R > R0p):\n",
        "        alpha = 20 * np.log10((4 * np.pi * R0p) / lambda_val)\n",
        "        PL = alpha + 10 * gamma * np.log10(R / R0) + Xf + Xh + s\n",
        "    else:\n",
        "        PL = 20 * np.log10((4 * np.pi * R) / lambda_val) + s\n",
        "\n",
        "    pRec = pSend - PL\n",
        "    if (pRec > pSend):\n",
        "        pRec = pSend\n",
        "    return pRec\n",
        "\n",
        "\n",
        "def cal_XR_min(r_m, m, S, rate_UE, rate_m_min):\n",
        "    # This function to calculate minimum the number of RBs for each UE of the MVNO m.\n",
        "    # Input:\n",
        "    # rate_m_min: minimum data rate requirement for UEs at MVNO m\n",
        "    # r_m  : total number of RBs for MVNO m\n",
        "    # S: Number of UEs of MVNO m\n",
        "    # rate_UE: Data rate of the UEs with one RB\n",
        "    # m: index of the MVNO\n",
        "    # Output:\n",
        "    # X_m_min: minimum fraction of number of RBs of MVNO m\n",
        "    # R_m: maximum data rate of users in MVNO m with r_m to the MVNO m\n",
        "    s_m = S[m];\n",
        "    if m == 0:\n",
        "        # print(rate_UE[0:s_m][0])\n",
        "        X_m_min = rate_m_min / (r_m * rate_UE[0:s_m, 0]);\n",
        "        R_m = r_m * rate_UE[0:s_m, 0]\n",
        "    else:\n",
        "        X_m_min = rate_m_min / (r_m * rate_UE[sum(S[:m]):(sum(S[:m]) + S[m]), 0]);\n",
        "        R_m = r_m * rate_UE[sum(S[:m]):(sum(S[:m]) + S[m]), 0]\n",
        "\n",
        "    return X_m_min, R_m\n",
        "\n",
        "\n",
        "    # X_m_min = cal_R_min(20, 0, S, rate_UE, 2)\n",
        "    # # print(S)\n",
        "    # print (X_m_min)\n",
        "\n",
        "\n",
        "# Test: OK\n",
        "\n",
        "def DD_method(S, Z_m_max, m, r_m, rate_UE, rate_m_min):\n",
        "    # Input parameter: S, m\n",
        "    # Input:\n",
        "    # S = np.array([5, 15, 25]) # Number of users at each MVNO\n",
        "    # Z_m_max =  np.array([20, 40, 100]) # Capacity limitation\n",
        "    # m = 0;\n",
        "    # r_m = 20;\n",
        "    # rate_UE;\n",
        "    # rate_m_min = 2; # minimum data rate requirement of UEs at MVNO m\n",
        "\n",
        "    # Output parameter: X_m (vector of users of the service provider m)\n",
        "    # vector data rate of the MVNO m R_m * X_mR_m*X_m\n",
        "\n",
        "    # Starting function\n",
        "    z_m = Z_m_max[m];  # Backhaul capacity of the MVNO m\n",
        "    s_m = S[m];  # Number of UEs at MVNO m\n",
        "\n",
        "    # algorithm parameter\n",
        "\n",
        "    iter_m = 100;  # Number of iterations for MVNO m\n",
        "    X_m = np.zeros(iter_m)  # Matrix of resource allocation of all UE\n",
        "    # at MVNO m following iteration iter_m\n",
        "\n",
        "    lambda_m = np.zeros(iter_m)\n",
        "\n",
        "    mu_m = np.zeros(iter_m)\n",
        "\n",
        "    sum_rate_m = np.zeros(iter_m)\n",
        "\n",
        "    sum_X_m = np.zeros(iter_m)\n",
        "\n",
        "    # Initiate variable:\n",
        "    lambda_m[0] = 7\n",
        "    mu_m[0] = 0.2\n",
        "    sum_rate_m[0] = 0;\n",
        "\n",
        "    # Getting minimumfraction of RB of number of RBs of each MVNO\n",
        "    # Getting R_m (see in the paper or problem analysis):\n",
        "    X_m_min, R_m = cal_XR_min(r_m, m, S, rate_UE, rate_m_min)\n",
        "\n",
        "    theta_1 = 1\n",
        "    theta_3 = 0.01\n",
        "\n",
        "    # print(X_m_min, R_m)\n",
        "    # Starting algorithm of DD method\n",
        "\n",
        "    for i in range(1, iter_m):\n",
        "        # Update vector X_m at all UE\n",
        "\n",
        "        # print ('lambda_m =', lambda_m[i-1])\n",
        "        # print ('R_m*mu_m =', R_m*mu_m[i-1])\n",
        "\n",
        "        X_m = 1 / (lambda_m[i - 1] + R_m * mu_m[i - 1])\n",
        "        # print (X_m)\n",
        "        # print (lambda_m[999-1])\n",
        "        # Update vector lambda_m\n",
        "        lambda_m[i] = max(0, lambda_m[i - 1] - theta_1 * (1 - np.sum(X_m)))\n",
        "\n",
        "        # Update vecotr mu_m\n",
        "        mu_m[i] = max(0, mu_m[i - 1] - theta_3 * (z_m - np.sum(R_m * X_m)))\n",
        "        # print (R_m*X_m, X_m)\n",
        "\n",
        "        # Update total rate of MVNO m\n",
        "        sum_rate_m[i] = np.sum(R_m * X_m)\n",
        "        sum_X_m[i] = np.sum(X_m)\n",
        "\n",
        "    # t1 = np.arange(iter_m)\n",
        "\n",
        "    # print(lambda_m)\n",
        "\n",
        "    #   plt.figure(1)\n",
        "    #   plt.subplot(211)\n",
        "    #   plt.plot(t1, lambda_m, 'bo')\n",
        "\n",
        "    #   plt.subplot(212)\n",
        "    #   plt.plot(t1, mu_m, 'k')\n",
        "    #   plt.show()\n",
        "\n",
        "    #   plt.figure(2)\n",
        "    #   plt.plot(t1, sum_rate_m, '--k')\n",
        "    #   plt.show()\n",
        "\n",
        "    #   plt.figure(3)\n",
        "    #   plt.plot(t1, sum_X_m, '-g')\n",
        "\n",
        "    # plt.show()\n",
        "    # print ('sum(X_m) = ', np.sum(X_m))\n",
        "\n",
        "    # print ('np.sum(R_m*X_m) =', np.sum(R_m*X_m))\n",
        "\n",
        "    return np.sum(X_m), np.sum(R_m * X_m), R_m*X_m\n",
        "\n",
        "# # Input:\n",
        "# S = np.array([5, 15, 25]) # Number of users at each MVNO\n",
        "# Z_m_max =  np.array([20, 40, 100]) # Capacity limitation\n",
        "# m = 1;\n",
        "# # z_m = Z_m_max[m]; # Backhaul capacity of the MVNO m\n",
        "# # s_m = S[m]; # Number of UEs at MVNO m\n",
        "# r_m =100;\n",
        "# rate_UE;\n",
        "# rate_m_min = 2; # minimum data rate requirement of UEs at MVNO m\n",
        "\n",
        "# sum_X_m, sum_rate_m = DD_method(S,Z_m_max, m, r_m, rate_UE, rate_m_min)\n",
        "\n",
        "# print (sum_X_m, sum_rate_m)\n",
        "\n",
        "\n",
        "\"\"\"Main function\"\"\"\n",
        "\n",
        "# Initializate network model\n",
        "\n",
        "I = 1;  # Number of InP\n",
        "M = 3;  # number of MVNO\n",
        "S = np.array([5, 15, 25])  # Number of users at each MVNO\n",
        "\n",
        "# Getting network model (using class)\n",
        "\n",
        "# Number of MBS\n",
        "n_MBS = I;\n",
        "n_UE = sum(S);\n",
        "radius_MBS = 500;  # m\n",
        "bandwidth = 20;  # Mhz\n",
        "bw = 0.18  # MHz, bandwidth of each RB\n",
        "power_MBS = 43  # dBm\n",
        "n_RB = 100 # Number of RBs\n",
        "\n",
        "Z_m_max = np.array([40, 60, 80])\n",
        "rate_m_min = 0.5\n",
        "# Calculate noise\n",
        "Noise = 10 ** (calculateNoise(bandwidth) / 10)  # ~~ -100dBW\n",
        "Noise = 10 ** (-11)  #\n",
        "# Noise ~ 10**(-14); # Wats\n",
        "# print(Noise)\n",
        "\n",
        "# network_model.update(n_MBS,n_UE)\n",
        "# H = network_model.channel_gain();\n",
        "# P = network_model.power_downlink();\n",
        "\n",
        "# Create network topology and display\n",
        "\n",
        "# Getting Coors of BSs and UEs\n",
        "(Coor_BS, Coor_UE, distance_BS_to_UE) = create_system(radius_MBS, n_UE)\n",
        "\n",
        "# compute receivedSINRatUE 2D matrix\n",
        "rate_UE = np.zeros(shape=(n_UE, n_MBS))  # Matrix to update penalty to MVNO\n",
        "\n",
        "for i in range(n_UE):\n",
        "    for j in range(n_MBS):\n",
        "        # SINR_Rx[i][j] = 10*math.log10(10**(calculateReceivedPower(power_MBS, distance_BS_to_UE[i][j])/10)/Noise)\n",
        "        rate_UE[i][j] = 0.18 * np.log2(\n",
        "            1 + 10 ** (calculateReceivedPower(power_MBS, distance_BS_to_UE[i][j]) / 10) / Noise)\n",
        "\n",
        "# print(rate_UE)\n",
        "\n",
        "iter = 100# Number of Interations\n",
        "\n",
        "Q = np.zeros(shape=(M, iter))  # Matrix to update penalty to MVNO\n",
        "Q[:, 0] = 0.1\n",
        "\n",
        "B = np.zeros(shape=(M, iter))  # Matrix to update biding value to InP\n",
        "B[:, 0] = 0.1\n",
        "\n",
        "BETA = np.zeros(shape=(I, iter))  # Matrix to update biding value to InP\n",
        "BETA[:, 0] = 0.1\n",
        "\n",
        "RATE = np.zeros(shape=(M, iter))  # Sum data rate matrix of MVNOs\n",
        "RATE[:, 0] = 10 # s\n",
        "\n",
        "\n",
        "X_M = np.zeros(shape=(M, iter))  # Sum data rate matrix of MVNOs\n",
        "X_M[:, 0] = 0.8 # Mbps\n",
        "\n",
        "RM = np.zeros(shape=(M, iter))  # Number of RBs allocate to MVNOs\n",
        "RM[:, 0] = n_RB/M\n",
        "\n",
        "RV = np.zeros(shape=(np.sum(S), iter))  # Vector data rate of users in all MVNOs\n",
        "RV[:, 0] = 0.5 # Mbps\n",
        "\n",
        "# Stage I: Resource Competition Game\n",
        "\n",
        "\n",
        "for i in range(1, iter):\n",
        "    # print (i)\n",
        "\n",
        "    # PHASE I\n",
        "\n",
        "    # Step 1: Updating penalty value to MNVO --> Q matrix\n",
        "        # Using function: penalty_to_mvno(beta, r_m, R, q_m_old, b)\n",
        "    for m in range(M):\n",
        "        Q[m][i] = penalty_to_mvno(BETA[0][i-1], RM[m][i-1], n_RB, Q[m][i-1], B[:, i-1])\n",
        "    #print('Q[:, i] =', Q[:, i])\n",
        "\n",
        "    # Step 2: Updating bidding value to InP --> B\n",
        "    # Using function:\n",
        "    for m in range(M):\n",
        "\n",
        "        s_m = S[m]\n",
        "        if m == 0:\n",
        "            # print(rate_UE[0:s_m][0])\n",
        "            RV_m = RV[0:s_m, i - 1]\n",
        "        else:\n",
        "            RV_m = RV[sum(S[:m]):(sum(S[:m]) + S[m]), i - 1]\n",
        "\n",
        "        B[m][i] = bidding_value(RV_m)\n",
        "    #print('B[:, i] =', B[:, i])\n",
        "\n",
        "    # Step 3: Broadcast virtual price (how much for each resource block)\n",
        "    # using virtual_price(b, R)\n",
        "    BETA[0][i] = virtual_price(B[:, i], n_RB)\n",
        "\n",
        "    #print('BETA[0][i] =', BETA[0][i] )\n",
        "\n",
        "    # Step 4: InP calculates number of RBs to allocate to each MVNO according to\n",
        "    # bidding value\n",
        "    # Using function: cal_number_of_rbs(b_m, b, R)\n",
        "    for m in range(M):\n",
        "        RM[m][i] = cal_number_of_rbs(B[m][i], B[:, i], n_RB)\n",
        "        RM[m][i] = int(RM[m][i])\n",
        "    #print('RM[:, i] =', RM[:, i])\n",
        "\n",
        "    # PHASE II\n",
        "    # Step 5: Updating resource allocation at each MVNO\n",
        "    for m in range(M):\n",
        "        # np.sum(X_m), np.sum(R_m * X_m), R_m*X_m = DD_method(S, Z_m_max, m, r_m, rate_UE, rate_m_min)\n",
        "        X_M_A, RATE_A, V_m_A = DD_method(S, Z_m_max, m, RM[m][i], rate_UE, rate_m_min)\n",
        "        s_m = S[m]\n",
        "        if m == 0:\n",
        "            # print(rate_UE[0:s_m][0])\n",
        "            RV[0:s_m, i] = V_m_A\n",
        "        else:\n",
        "            RV[sum(S[:m]):(sum(S[:m]) + S[m]), i] = V_m_A\n",
        "        X_M[m][i] = X_M_A\n",
        "        RATE[m][i] = RATE_A\n",
        "\n",
        "    #print('RV[:, i] =', RV[:, i])\n",
        "    #print('X_M[:, i] =', X_M[:, i])\n",
        "    #print('RATE[:, i] =', RATE[:, i])\n",
        "\n",
        "\n",
        "\n",
        "\n",
        "# Stage II: Output display\n",
        "\n",
        "# 0. Network model\n",
        "\n",
        "# plot network model\n",
        "# display_network_model(Coor_BS, Coor_UE, M, S, radius_MBS)\n",
        "\n",
        "# 1. Data rate of each MVNO following time\n",
        "\n",
        "plot_RATE(RATE, M, iter)\n",
        "\n",
        "\n",
        "plot_RA(RM, M, iter)\n",
        "\n",
        "# 2. Plot proportional allocation:\n",
        "\n"
      ],
      "execution_count": 32,
      "outputs": [
        {
          "output_type": "display_data",
          "data": {
            "image/png": "[encoded data removed]",
            "text/plain": [
              "<matplotlib.figure.Figure at 0x7f78ea5924d0>"
            ]
          },
          "metadata": {
            "tags": []
          }
        },
        {
          "output_type": "display_data",
          "data": {
            "image/png": "[encoded data removed]",
            "text/plain": [
              "<matplotlib.figure.Figure at 0x7f78ea592850>"
            ]
          },
          "metadata": {
            "tags": []
          }
        }
      ]
    },
    {
      "metadata": {
        "id": "OS4zyPEviwd5",
        "colab_type": "code",
        "colab": {
          "base_uri": "https://localhost:8080/",
          "height": 34
        },
        "outputId": "68a546ea-25f1-421b-b13f-a1d0846aeedd"
      },
      "cell_type": "code",
      "source": [
        "Coor_UE.shape"
      ],
      "execution_count": 104,
      "outputs": [
        {
          "output_type": "execute_result",
          "data": {
            "text/plain": [
              "(45, 2)"
            ]
          },
          "metadata": {
            "tags": []
          },
          "execution_count": 104
        }
      ]
    },
    {
      "metadata": {
        "id": "_rX6kFAd6m8j",
        "colab_type": "text"
      },
      "cell_type": "markdown",
      "source": [
        "# Network analysis and algorithm design"
      ]
    },
    {
      "metadata": {
        "id": "PkkIoKbo11Oz",
        "colab_type": "text"
      },
      "cell_type": "markdown",
      "source": [
        "## ADMM design\n",
        "\n",
        "- Utility function: \n",
        "\n",
        "- O1: $v_m(r_m) = \\sum_{s=1}^{S_m}\\log(x_s^mr_mw\\log_2(1+\\frac{p_sh_s}{N_0}))$\n",
        "\n",
        "- Constraints:\n",
        "\n",
        "    - C1: $ x_s^m = [0,1]$, $\\forall m \\in \\mathcal{M}$,\n",
        "    - C2: $ \\sum_{s=1}^{S_m} x_s^m \\leq 1$, $\\forall m \\in \\mathcal{M}$\n",
        "    - C3: $ x_s^mr_mw\\log_2(1+\\frac{p_sh_s}{N_0}) \\ge \\rho_s^{\\mathsf{min}}$, $\\forall s \\in \\mathcal{S}$, $\\forall m \\in \\mathcal{M}$\n",
        "    - C4: $ \\sum_{s=1}^{S_m}x_s^mr_mw\\log_2(1+\\frac{p_sh_s}{N_0}) \\leq Z_m^{\\mathsf{max}}$, $\\forall m \\in \\mathcal{M}$\n",
        "\n",
        "- $L_{\\rho} (x,\\lambda) = \\sum_{s=1}^{S_m}\\log(x_s^mr_mw\\log_2(1+\\frac{p_sh_s}{N_0})) + \\sum_{m=1}^M \\lambda_m(\\sum_{s=1}^{S_m} x_s^m - 1) + \\frac{\\rho}{2} || \\sum_{s=1}^{S_m} x_s^m -1 ||_2^2 $  \n"
      ]
    },
    {
      "metadata": {
        "id": "nu2QEJUI44zF",
        "colab_type": "code",
        "colab": {}
      },
      "cell_type": "code",
      "source": [
        ""
      ],
      "execution_count": 0,
      "outputs": []
    },
    {
      "metadata": {
        "id": "SRU5P5-P45xO",
        "colab_type": "code",
        "colab": {}
      },
      "cell_type": "code",
      "source": [
        ""
      ],
      "execution_count": 0,
      "outputs": []
    },
    {
      "metadata": {
        "id": "kWvSj35U2M4B",
        "colab_type": "text"
      },
      "cell_type": "markdown",
      "source": [
        "\\begin{equation}\n",
        " \t\t\t\t\\begin{aligned} \n",
        " \t\t\t\tL(x_s^m,\\lambda,\\nu, \\mu) = \\log(x_s^mr_m\\omega\\log_2(1+ \\frac{p_sh_s}{N_0})) - \\lambda x_s^m - \\mu \\log(x_s^mr_m\\omega\\log_2(1+ \\frac{p_sh_s}{N_0})) \n",
        " \t\t\t\t\\end{aligned}\n",
        "\\end{equation}\n",
        "\n",
        "Let $R_m = r_mωlog2(1+pshsN0)$ \n",
        "\n",
        "\\begin{equation}\n",
        " \t\t\t\t\\begin{aligned} \n",
        " \t\t\t\tL(x_s^m,\\lambda,\\nu, \\mu) = \\log(x_s^mR_m) - \\lambda x_s^m - \\mu x_s^mR_m \n",
        " \t\t\t\t\\end{aligned}\n",
        "\\end{equation}\n",
        "\n",
        "\n",
        "Take derivative: \n",
        "\n",
        "$\\frac{\\partial L(x_s^m, \\lambda, \\nu, \\mu)}{\\partial x_s^m} = \\frac{1}{x_s^m} - \\lambda - \\mu R_m $\n",
        "\n",
        "Taking $\\frac{\\partial L(x_s^m, \\lambda, \\nu, \\mu)}{\\partial x_s^m} = 0 $  following $x_s$ variable, we have: \n",
        "\n",
        "$x_s^m = \\bigg[ \\frac{1}{\\lambda + \\mu R_m }  \\bigg]_{x_s^{\\mathsf{min}}}^{x_s^{\\mathsf{max}}} $\n",
        "\n",
        "\n",
        "\n",
        "When Lagrangian Dual function $(12)$ is not differential, subgradient method can be applied and update the Lagrangian Multipliers according to the following, \n",
        "\n",
        " \\begin{align}\n",
        " \\lambda_s^{(i+1)} &= \\bigg[\\lambda_s^i - \\theta_1^{(i)}\\bigg(1- \\sum_{s=1}^{S_m}x_s^m\\bigg)\\bigg], \\ \\ \\ \\ \\ \\ \\ \\ \\ \\forall s.\\\\\n",
        " \\mu_s^{(i+1)} &= \\bigg[\\mu_s^i - \\theta_3^{(i)}\\bigg( Z_m^{max} -\\sum_{s=1}^{S_m}x_s^m r_m\\omega \\log_2(1+\\frac{p_s h_s}{N_0})\\bigg)\\bigg], \\forall s.\n",
        " \\end{align} \n",
        "where $\\theta_1^i, \\theta_2^i $,and $\\theta_3^i$ are step sizes of each iteration $i (i \\in \\{1, 2, 3, ... , I_{max}\\})$, $I_{max}$ is the maximum number of iterations of algorithm, and the step sizes can be formulated. \n"
      ]
    },
    {
      "metadata": {
        "id": "1CUfpXiJNamL",
        "colab_type": "text"
      },
      "cell_type": "markdown",
      "source": [
        ""
      ]
    },
    {
      "metadata": {
        "id": "WEkyTLbwVCrs",
        "colab_type": "text"
      },
      "cell_type": "markdown",
      "source": [
        "## Dual decomposition design\n",
        "\n",
        "- Utility function: \n",
        "\n",
        "- O1: $v_m(r_m) = \\log(\\sum_{s=1}^{S_m}\\log(x_s^mr_mw\\log_2(1+\\frac{p_sh_s}{N_0})))$\n",
        "\n",
        "- Constraints:\n",
        "\n",
        "    - C1: $ x_s^m = [0,1]$, $\\forall m \\in \\mathcal{M}$,\n",
        "    - C2: $ \\sum_{s=1}^{S_m} x_s^m \\leq 1$, $\\forall m \\in \\mathcal{M}$\n",
        "    - C3: $ x_s^mr_mw\\log_2(1+\\frac{p_sh_s}{N_0}) \\ge \\rho_s^{\\mathsf{min}}$, $\\forall s \\in \\mathcal{S}$, $\\forall m \\in \\mathcal{M}$\n",
        "    - C4: $ \\sum_{s=1}^{S_m}x_s^mr_mw\\log_2(1+\\frac{p_sh_s}{N_0}) \\leq Z_m^{\\mathsf{max}}$, $\\forall m \\in \\mathcal{M}$\n",
        "\n",
        "\n",
        "In this subsection, MVNO's RBs allocation to its subscribers (sum rate maximizing) optimization in $(12)$ is solved by using Lagrangian Dual Decomposition method subject to constaints C1, C2, and C4. The Lagrangian function can be expressed as:     \n",
        "\\begin{equation}\n",
        " \t\t\t\t\\begin{aligned} \n",
        " \t\t\t\tL(x_s^m,\\lambda,\\nu, \\mu) ={} &\\sum_{s=1}^{S_m} \\log(x_s^mr_m\\omega\\log_2(1+ \\frac{p_sh_s}{N_0})) \\\\\n",
        " \t\t\t\t& + \\lambda \\bigg(1-\\sum_{s=1}^{S_m}x_s^m\\bigg)- \\sum_{s=1}^{S_m}\\nu_s\\bigg(\\rho_s^{min}\\\\\n",
        " \t\t\t\t&-\\log(x_s^mr_m\\omega\\log_2(1+ \\frac{p_sh_s}{N_0}))\\bigg)\\\\\n",
        " \t\t\t\t& - \\mu \\bigg(\\sum_{s=1}^{S_m} \\log(x_s^mr_m\\omega\\log_2(1+ \\frac{p_sh_s}{N_0})) \\\\\n",
        " \t\t\t\t&-Z_m^{max}\\bigg)\n",
        " \t\t\t\t\\end{aligned}\n",
        "\\end{equation}\n",
        "\n",
        "\n",
        "\n",
        "\n",
        "where $\\lambda, \\nu, \\mu $ are the Lagrangian multipliers for constraints in $  (14), (15), (16)$. Karush-Kuhn-Tucker (KKT) conditions absorbed the boundary condition in $(13)$. So, The Lagrangian dual function can be formulated as: \n",
        "$\n",
        " \t\\begin{equation}\n",
        " \t\t\tD(\\lambda,\\mu) = \\max_{x_s^m} L(x_s^m,\\lambda, \\nu, \\mu)\n",
        "    \\end{equation}$\n",
        "Then the dual problem can be expressed as:\n",
        " $\n",
        " \t\\begin{align}\n",
        "                 \t\t\t& \\max_{\\lambda, \\nu, \\mu} \n",
        "                 \t\t\t\\begin{aligned}[t]\n",
        "                 \t\t\t& D(\\lambda, \\nu, \\mu)\n",
        "                 \t\t\t\\end{aligned} \\\\\n",
        "                 \t\t\t&\\text{s.t.} \\notag \\\\\n",
        "                 \t\t\t& \\lambda, \\nu, \\mu \\geq 0.   \n",
        "    \\end{align}  $\n",
        "According to KKT conditions, the solution of the RBs scheduling problem, denoted by ${x_s^m}$ can be obtained: \n",
        "\n",
        " \\begin{equation}\n",
        " \\frac{\\partial L(x_s^m, \\lambda, \\nu, \\mu)}{\\partial x_s^m} = \\frac{1}{x_s^m} - \\lambda_s + r_m\\omega\\log_2(1+ \\frac{p_sh_s}{N_0})(\\nu_s+\\mu_s)\n",
        " \\end{equation}  \n",
        "\n",
        "\\begin{equation}\n",
        "    \\frac{\\partial L(x_s^m, \\lambda, \\nu, \\mu)}{\\partial x_s^m} =\n",
        "\\begin{cases}\n",
        "    0,& \\text{if } x_s^m\\geq 1\\\\\n",
        "    <0,              & \\text{if} x_s^m=0.\n",
        "\\end{cases}\n",
        "\\end{equation} \n",
        "By setting $(21)$ equal to $0$, we can obtain the optimal solution of the MVNO's RBs allocation problem and it is as follows,\n",
        "\n",
        "\\begin{equation}\n",
        "x_s^m = \\bigg[\\frac{1}{\\lambda_s-r_m\\omega\\log_2(1+\\frac{p_sh_s}{N_0})(\\nu_s+\\mu_s)}\\bigg]^+,  \\forall s.\n",
        "\\end{equation}\n",
        "\n",
        "When Lagrangian Dual function $(12)$ is not differential, subgradient method can be applied and update the Lagrangian Multipliers according to the following, \n",
        "\n",
        " \\begin{align}\n",
        " \\lambda_s^{(i+1)} &= \\bigg[\\lambda_s^i - \\theta_1^{(i)}\\bigg(1- \\sum_{s=1}^{S_m}x_s^m\\bigg)\\bigg], \\ \\ \\ \\ \\ \\ \\ \\ \\ \\forall s.\\\\\n",
        " \\nu_s^{(i+1)} &= \\bigg[\\nu_s^i - \\theta_2^{(i)}\\bigg(x_s^m r_m\\omega \\log_2(1+\\frac{p_s h_s}{N_0})- \\rho_s^{min}\\bigg)\\bigg], \\forall s.\\\\\n",
        " \\mu_s^{(i+1)} &= \\bigg[\\mu_s^i - \\theta_3^{(i)}\\bigg(\\sum_{s=1}^{S_m}x_s^m r_m\\omega \\log_2(1+\\frac{p_s h_s}{N_0})- Z_m^{max}\\bigg)\\bigg], \\forall s.\n",
        " \\end{align} \n",
        "where $\\theta_1^i, \\theta_2^i $,and $\\theta_3^i$ are step sizes of each iteration $i (i \\in \\{1, 2, 3, ... , I_{max}\\})$, $I_{max}$ is the maximum number of iterations of algorithm, and the step sizes can be formulated as: \n",
        "\n",
        "  \t\\begin{equation}\n",
        "  \t\t\t\\theta_j^i = \\frac{a}{\\sqrt{i}} ,\\  a>0 , \\ j = \\{1,2,3\\} .\n",
        "  \t\\end{equation}\n",
        "Moreover, step sizes must satisfy the following conditions, \n",
        "\n",
        "\n"
      ]
    },
    {
      "metadata": {
        "id": "qLyC4x3OyXG7",
        "colab_type": "text"
      },
      "cell_type": "markdown",
      "source": [
        "# Others"
      ]
    },
    {
      "metadata": {
        "id": "FuH70Ilea4b2",
        "colab_type": "code",
        "colab": {
          "base_uri": "https://localhost:8080/",
          "height": 67
        },
        "outputId": "e7fa90d0-9be9-45a6-d74d-1aa32dec5f5b"
      },
      "cell_type": "code",
      "source": [
        "import numpy as np\n",
        "Q = np.zeros(shape=(2, 2)) \n",
        "Q[1][1] =2\n",
        "print(Q)\n",
        "x = Q[:,1]\n",
        "print (x)"
      ],
      "execution_count": 24,
      "outputs": [
        {
          "output_type": "stream",
          "text": [
            "[[ 0.  0.]\n",
            " [ 0.  2.]]\n",
            "[ 0.  2.]\n"
          ],
          "name": "stdout"
        }
      ]
    },
    {
      "metadata": {
        "id": "8wzAczyva6MM",
        "colab_type": "code",
        "colab": {
          "base_uri": "https://localhost:8080/",
          "height": 34
        },
        "outputId": "6830e0d7-b175-4cdd-96ae-ec0c69558332"
      },
      "cell_type": "code",
      "source": [
        "n = 0.9\n",
        "int(n)"
      ],
      "execution_count": 30,
      "outputs": [
        {
          "output_type": "execute_result",
          "data": {
            "text/plain": [
              "0"
            ]
          },
          "metadata": {
            "tags": []
          },
          "execution_count": 30
        }
      ]
    },
    {
      "metadata": {
        "id": "3wivinllYPNa",
        "colab_type": "code",
        "colab": {}
      },
      "cell_type": "code",
      "source": [
        ""
      ],
      "execution_count": 0,
      "outputs": []
    }
  ]
}